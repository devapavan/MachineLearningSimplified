{
 "cells": [
  {
   "cell_type": "markdown",
   "metadata": {},
   "source": [
    "# Pre Processing"
   ]
  },
  {
   "cell_type": "markdown",
   "metadata": {},
   "source": [
    "#### Missing-Value-Treatments\n",
    "\n",
    "1. Mean-or-median-or-other-summary-statistic-substitution\n",
    "2. Forward-fill-and-backward-fill-(can-be-used-according-to-business-problem)\n",
    "3. Nearest-neighbors-imputation\n",
    "4. MultiOutputRegressor\n",
    "5. IterativeImpute\n",
    "6. Time-Series-Specific-Methods"
   ]
  },
  {
   "cell_type": "markdown",
   "metadata": {},
   "source": [
    "# __Missing Value Treatments__\n",
    "The methods used to handle missing values are as follows:<br>\n",
    "1. Drop missing values\n",
    "2. Fill missing value with test statistic\n",
    "3. Predict missing value with maching learning algoritm"
   ]
  },
  {
   "cell_type": "code",
   "execution_count": 1,
   "metadata": {},
   "outputs": [
    {
     "name": "stdout",
     "output_type": "stream",
     "text": [
      "   First Score  Second Score  Third Score\n",
      "0        100.0          30.0          NaN\n",
      "1         90.0          45.0         40.0\n",
      "2          NaN          56.0         98.0\n",
      "3         95.0           NaN         98.0\n",
      "4         75.0           NaN         56.0\n",
      "\n",
      "No of null values:\n"
     ]
    },
    {
     "data": {
      "text/plain": [
       "First Score     1\n",
       "Second Score    2\n",
       "Third Score     1\n",
       "dtype: int64"
      ]
     },
     "execution_count": 1,
     "metadata": {},
     "output_type": "execute_result"
    }
   ],
   "source": [
    "import pandas as pd\n",
    "import  numpy as np\n",
    "# Check missing values in a dataset \n",
    "dict = {'First Score':[100, 90, np.nan, 95, 75], \n",
    "\n",
    "        'Second Score': [30, 45, 56, np.nan, np.nan], \n",
    "\n",
    "        'Third Score':[np.nan, 40, 98, 98, 56]} \n",
    "\n",
    "# creating a dataframe from list \n",
    "df = pd.DataFrame(dict)\n",
    "print(df)\n",
    "print('\\nNo of null values:')\n",
    "df.isnull().sum()"
   ]
  },
  {
   "cell_type": "code",
   "execution_count": 2,
   "metadata": {},
   "outputs": [
    {
     "data": {
      "text/html": [
       "<div>\n",
       "<style scoped>\n",
       "    .dataframe tbody tr th:only-of-type {\n",
       "        vertical-align: middle;\n",
       "    }\n",
       "\n",
       "    .dataframe tbody tr th {\n",
       "        vertical-align: top;\n",
       "    }\n",
       "\n",
       "    .dataframe thead th {\n",
       "        text-align: right;\n",
       "    }\n",
       "</style>\n",
       "<table border=\"1\" class=\"dataframe\">\n",
       "  <thead>\n",
       "    <tr style=\"text-align: right;\">\n",
       "      <th></th>\n",
       "      <th>First Score</th>\n",
       "      <th>Second Score</th>\n",
       "      <th>Third Score</th>\n",
       "    </tr>\n",
       "  </thead>\n",
       "  <tbody>\n",
       "    <tr>\n",
       "      <th>2</th>\n",
       "      <td>0.0</td>\n",
       "      <td>56.0</td>\n",
       "      <td>98.0</td>\n",
       "    </tr>\n",
       "  </tbody>\n",
       "</table>\n",
       "</div>"
      ],
      "text/plain": [
       "   First Score  Second Score  Third Score\n",
       "2          0.0          56.0         98.0"
      ]
     },
     "execution_count": 2,
     "metadata": {},
     "output_type": "execute_result"
    }
   ],
   "source": [
    "# If the missing value isn’t identified as NaN , then we have to first convert or replace such non NaN entry with a NaN\n",
    "df_2 = df.copy()\n",
    "df_2['First Score'].replace(np.nan,0, inplace= True)\n",
    "df_2[df_2['First Score'] == 0].head(2)"
   ]
  },
  {
   "cell_type": "markdown",
   "metadata": {},
   "source": [
    "## Imputation vs Removing Data\n",
    "Before jumping to the methods of data imputation, we have to understand the reason why data goes missing.\n",
    "1. **Missing completely at random**: This is a case when the probability of missing variable is same for all observations. For example: respondents of data collection process decide that they will declare their earning after tossing a fair coin. If an head occurs, respondent declares his / her earnings & vice versa. Here each observation has equal chance of missing value.\n",
    "2. **Missing at random**: This is a case when variable is missing at random and missing ratio varies for different values / level of other input variables. For example: We are collecting data for age and female has higher missing value compare to male.\n",
    "3. **Missing that depends on unobserved predictors**: This is a case when the missing values are not random and are related to the unobserved input variable. For example: In a medical study, if a particular diagnostic causes discomfort, then there is higher chance of drop out from the study. This missing value is not at random unless we have included “discomfort” as an input variable for all patients.\n",
    "4. **Missing that depends on the missing value itself**: This is a case when the probability of missing value is directly correlated with missing value itself. For example: People with higher or lower income are likely to provide non-response to their earning.\n",
    " "
   ]
  },
  {
   "cell_type": "markdown",
   "metadata": {},
   "source": [
    "**Simple approaches**<br>\n",
    "A number of simple approaches exist. For basic use cases, these are often enough.<br><br>\n",
    "**Dropping rows with null values**\n",
    "1. If the number of data points is sufficiently high that dropping some of them will not cause lose generalizability in the models built (to determine whether or not this is the case, a learning curve can be used)\n",
    "2. Dropping too much data is also dangerous\n",
    "3. If in a large data set is present and missinng values is in range of 5-3%; then droping missing values is feasible"
   ]
  },
  {
   "cell_type": "code",
   "execution_count": 3,
   "metadata": {},
   "outputs": [
    {
     "data": {
      "text/html": [
       "<div>\n",
       "<style scoped>\n",
       "    .dataframe tbody tr th:only-of-type {\n",
       "        vertical-align: middle;\n",
       "    }\n",
       "\n",
       "    .dataframe tbody tr th {\n",
       "        vertical-align: top;\n",
       "    }\n",
       "\n",
       "    .dataframe thead th {\n",
       "        text-align: right;\n",
       "    }\n",
       "</style>\n",
       "<table border=\"1\" class=\"dataframe\">\n",
       "  <thead>\n",
       "    <tr style=\"text-align: right;\">\n",
       "      <th></th>\n",
       "      <th>First Score</th>\n",
       "      <th>Second Score</th>\n",
       "      <th>Third Score</th>\n",
       "    </tr>\n",
       "  </thead>\n",
       "  <tbody>\n",
       "    <tr>\n",
       "      <th>1</th>\n",
       "      <td>90.0</td>\n",
       "      <td>45.0</td>\n",
       "      <td>40.0</td>\n",
       "    </tr>\n",
       "  </tbody>\n",
       "</table>\n",
       "</div>"
      ],
      "text/plain": [
       "   First Score  Second Score  Third Score\n",
       "1         90.0          45.0         40.0"
      ]
     },
     "execution_count": 3,
     "metadata": {},
     "output_type": "execute_result"
    }
   ],
   "source": [
    "df_3=df.copy()\n",
    "df_3.dropna()"
   ]
  },
  {
   "cell_type": "markdown",
   "metadata": {},
   "source": [
    "**Dropping features with high nullity**\n",
    "\n",
    "A feature that has a high number of empty values is unlikely to be very useful for prediction. It can often be safely dropped.\n",
    "<br>**Note:** \"But before deciding the variable is not usefull we should perform feature importance test for validation\", tree based method can be used "
   ]
  },
  {
   "cell_type": "code",
   "execution_count": 4,
   "metadata": {},
   "outputs": [],
   "source": [
    "df_2.drop(['Second Score'], axis= 1, inplace = True)"
   ]
  },
  {
   "cell_type": "markdown",
   "metadata": {},
   "source": [
    "<a class=\"list-group-item list-group-item-action\" data-toggle=\"list\" href=\"#Pre-Processing\" role=\"tab\" aria-controls=\"settings\">Go to Top<span class=\"badge badge-primary badge-pill\"></span></a>"
   ]
  },
  {
   "cell_type": "markdown",
   "metadata": {},
   "source": [
    "## Mean or median or other summary statistic substitution\n",
    "When to use example:\n",
    "1. Check outlier, if less outliers is present then mean imputation can be used\n",
    "2. When outliers are more median impuation can be used \n",
    "3. For categorical variables mode imputaion can be used\n",
    "\n",
    "<br>**NOTE:**- Ok to use if missing data is less than 3%, otherwise introduces too much bias and artificially lowers variability of data"
   ]
  },
  {
   "cell_type": "code",
   "execution_count": 5,
   "metadata": {},
   "outputs": [
    {
     "name": "stdout",
     "output_type": "stream",
     "text": [
      "[[ 7.   2.   3. ]\n",
      " [ 4.   3.5  6. ]\n",
      " [10.   3.5  9. ]]\n"
     ]
    }
   ],
   "source": [
    "# Simple illustration for missing value imputation with mean \n",
    "# The imputation strategies are mean, mode & median \n",
    "import numpy as np\n",
    "from sklearn.impute import SimpleImputer\n",
    "imp_mean = SimpleImputer(missing_values=np.nan, strategy='mean')\n",
    "imp_mean.fit([[7, 2, 3], [4, np.nan, 6], [10, 5, 9]])\n",
    "SimpleImputer()\n",
    "#This will look for all columns where we have NaN value and replace the NaN value with specified test statistic.\n",
    "X = [[np.nan, 2, 3], [4, np.nan, 6], [10, np.nan, 9]]\n",
    "print(imp_mean.transform(X))"
   ]
  },
  {
   "cell_type": "code",
   "execution_count": 6,
   "metadata": {},
   "outputs": [
    {
     "data": {
      "text/html": [
       "<div>\n",
       "<style scoped>\n",
       "    .dataframe tbody tr th:only-of-type {\n",
       "        vertical-align: middle;\n",
       "    }\n",
       "\n",
       "    .dataframe tbody tr th {\n",
       "        vertical-align: top;\n",
       "    }\n",
       "\n",
       "    .dataframe thead th {\n",
       "        text-align: right;\n",
       "    }\n",
       "</style>\n",
       "<table border=\"1\" class=\"dataframe\">\n",
       "  <thead>\n",
       "    <tr style=\"text-align: right;\">\n",
       "      <th></th>\n",
       "      <th>size</th>\n",
       "      <th>price</th>\n",
       "      <th>color</th>\n",
       "      <th>class</th>\n",
       "      <th>boh</th>\n",
       "    </tr>\n",
       "  </thead>\n",
       "  <tbody>\n",
       "    <tr>\n",
       "      <th>0</th>\n",
       "      <td>XXL</td>\n",
       "      <td>8.0</td>\n",
       "      <td>black</td>\n",
       "      <td>class 1</td>\n",
       "      <td>22.0</td>\n",
       "    </tr>\n",
       "    <tr>\n",
       "      <th>1</th>\n",
       "      <td>L</td>\n",
       "      <td>NaN</td>\n",
       "      <td>gray</td>\n",
       "      <td>class 2</td>\n",
       "      <td>20.0</td>\n",
       "    </tr>\n",
       "    <tr>\n",
       "      <th>2</th>\n",
       "      <td>XL</td>\n",
       "      <td>10.0</td>\n",
       "      <td>blue</td>\n",
       "      <td>class 2</td>\n",
       "      <td>19.0</td>\n",
       "    </tr>\n",
       "    <tr>\n",
       "      <th>3</th>\n",
       "      <td>M</td>\n",
       "      <td>NaN</td>\n",
       "      <td>orange</td>\n",
       "      <td>class 1</td>\n",
       "      <td>17.0</td>\n",
       "    </tr>\n",
       "    <tr>\n",
       "      <th>4</th>\n",
       "      <td>M</td>\n",
       "      <td>11.0</td>\n",
       "      <td>green</td>\n",
       "      <td>class 3</td>\n",
       "      <td>NaN</td>\n",
       "    </tr>\n",
       "    <tr>\n",
       "      <th>5</th>\n",
       "      <td>M</td>\n",
       "      <td>7.0</td>\n",
       "      <td>red</td>\n",
       "      <td>class 1</td>\n",
       "      <td>22.0</td>\n",
       "    </tr>\n",
       "  </tbody>\n",
       "</table>\n",
       "</div>"
      ],
      "text/plain": [
       "  size  price   color    class   boh\n",
       "0  XXL    8.0   black  class 1  22.0\n",
       "1    L    NaN    gray  class 2  20.0\n",
       "2   XL   10.0    blue  class 2  19.0\n",
       "3    M    NaN  orange  class 1  17.0\n",
       "4    M   11.0   green  class 3   NaN\n",
       "5    M    7.0     red  class 1  22.0"
      ]
     },
     "execution_count": 6,
     "metadata": {},
     "output_type": "execute_result"
    }
   ],
   "source": [
    "import pandas as pd\n",
    "import numpy as np\n",
    "\n",
    "df=pd.DataFrame([[\"XXL\", 8, \"black\", \"class 1\", 22],\n",
    "[\"L\", np.nan, \"gray\", \"class 2\", 20],\n",
    "[\"XL\", 10, \"blue\", \"class 2\", 19],\n",
    "[\"M\", np.nan, \"orange\",\"class 1\", 17],\n",
    "[\"M\", 11, \"green\", \"class 3\", np.nan],\n",
    "[\"M\", 7, \"red\", \"class 1\", 22]])\n",
    "\n",
    "df.columns=[\"size\", \"price\", \"color\", \"class\", \"boh\"]\n",
    "df_copy= df.copy()\n",
    "df"
   ]
  },
  {
   "cell_type": "code",
   "execution_count": 7,
   "metadata": {},
   "outputs": [
    {
     "data": {
      "text/html": [
       "<div>\n",
       "<style scoped>\n",
       "    .dataframe tbody tr th:only-of-type {\n",
       "        vertical-align: middle;\n",
       "    }\n",
       "\n",
       "    .dataframe tbody tr th {\n",
       "        vertical-align: top;\n",
       "    }\n",
       "\n",
       "    .dataframe thead th {\n",
       "        text-align: right;\n",
       "    }\n",
       "</style>\n",
       "<table border=\"1\" class=\"dataframe\">\n",
       "  <thead>\n",
       "    <tr style=\"text-align: right;\">\n",
       "      <th></th>\n",
       "      <th>size</th>\n",
       "      <th>price</th>\n",
       "      <th>color</th>\n",
       "      <th>class</th>\n",
       "      <th>boh</th>\n",
       "    </tr>\n",
       "  </thead>\n",
       "  <tbody>\n",
       "    <tr>\n",
       "      <th>0</th>\n",
       "      <td>XXL</td>\n",
       "      <td>8.0</td>\n",
       "      <td>black</td>\n",
       "      <td>class 1</td>\n",
       "      <td>22.0</td>\n",
       "    </tr>\n",
       "    <tr>\n",
       "      <th>1</th>\n",
       "      <td>L</td>\n",
       "      <td>NaN</td>\n",
       "      <td>gray</td>\n",
       "      <td>class 2</td>\n",
       "      <td>20.0</td>\n",
       "    </tr>\n",
       "    <tr>\n",
       "      <th>2</th>\n",
       "      <td>XL</td>\n",
       "      <td>10.0</td>\n",
       "      <td>blue</td>\n",
       "      <td>class 2</td>\n",
       "      <td>19.0</td>\n",
       "    </tr>\n",
       "    <tr>\n",
       "      <th>3</th>\n",
       "      <td>M</td>\n",
       "      <td>NaN</td>\n",
       "      <td>orange</td>\n",
       "      <td>class 1</td>\n",
       "      <td>17.0</td>\n",
       "    </tr>\n",
       "    <tr>\n",
       "      <th>4</th>\n",
       "      <td>M</td>\n",
       "      <td>11.0</td>\n",
       "      <td>green</td>\n",
       "      <td>class 3</td>\n",
       "      <td>20.0</td>\n",
       "    </tr>\n",
       "    <tr>\n",
       "      <th>5</th>\n",
       "      <td>M</td>\n",
       "      <td>7.0</td>\n",
       "      <td>red</td>\n",
       "      <td>class 1</td>\n",
       "      <td>22.0</td>\n",
       "    </tr>\n",
       "  </tbody>\n",
       "</table>\n",
       "</div>"
      ],
      "text/plain": [
       "  size  price   color    class   boh\n",
       "0  XXL    8.0   black  class 1  22.0\n",
       "1    L    NaN    gray  class 2  20.0\n",
       "2   XL   10.0    blue  class 2  19.0\n",
       "3    M    NaN  orange  class 1  17.0\n",
       "4    M   11.0   green  class 3  20.0\n",
       "5    M    7.0     red  class 1  22.0"
      ]
     },
     "execution_count": 7,
     "metadata": {},
     "output_type": "execute_result"
    }
   ],
   "source": [
    "# imputation is done with respect to one column by using mean, mode and median stragey \n",
    "from sklearn.impute import SimpleImputer\n",
    "imp_mean = SimpleImputer(missing_values=np.nan, strategy='mean')\n",
    "imp_mean.fit(df[['boh']])\n",
    "df[\"boh\"]=imp_mean.transform(df[[\"boh\"]])\n",
    "df"
   ]
  },
  {
   "cell_type": "code",
   "execution_count": 8,
   "metadata": {},
   "outputs": [
    {
     "data": {
      "text/html": [
       "<div>\n",
       "<style scoped>\n",
       "    .dataframe tbody tr th:only-of-type {\n",
       "        vertical-align: middle;\n",
       "    }\n",
       "\n",
       "    .dataframe tbody tr th {\n",
       "        vertical-align: top;\n",
       "    }\n",
       "\n",
       "    .dataframe thead th {\n",
       "        text-align: right;\n",
       "    }\n",
       "</style>\n",
       "<table border=\"1\" class=\"dataframe\">\n",
       "  <thead>\n",
       "    <tr style=\"text-align: right;\">\n",
       "      <th></th>\n",
       "      <th>size</th>\n",
       "      <th>price</th>\n",
       "      <th>color</th>\n",
       "      <th>class</th>\n",
       "      <th>boh</th>\n",
       "    </tr>\n",
       "  </thead>\n",
       "  <tbody>\n",
       "    <tr>\n",
       "      <th>0</th>\n",
       "      <td>XXL</td>\n",
       "      <td>8.0</td>\n",
       "      <td>black</td>\n",
       "      <td>class 1</td>\n",
       "      <td>22.0</td>\n",
       "    </tr>\n",
       "    <tr>\n",
       "      <th>1</th>\n",
       "      <td>L</td>\n",
       "      <td>9.0</td>\n",
       "      <td>gray</td>\n",
       "      <td>class 2</td>\n",
       "      <td>20.0</td>\n",
       "    </tr>\n",
       "    <tr>\n",
       "      <th>2</th>\n",
       "      <td>XL</td>\n",
       "      <td>10.0</td>\n",
       "      <td>blue</td>\n",
       "      <td>class 2</td>\n",
       "      <td>19.0</td>\n",
       "    </tr>\n",
       "    <tr>\n",
       "      <th>3</th>\n",
       "      <td>M</td>\n",
       "      <td>9.0</td>\n",
       "      <td>orange</td>\n",
       "      <td>class 1</td>\n",
       "      <td>17.0</td>\n",
       "    </tr>\n",
       "    <tr>\n",
       "      <th>4</th>\n",
       "      <td>M</td>\n",
       "      <td>11.0</td>\n",
       "      <td>green</td>\n",
       "      <td>class 3</td>\n",
       "      <td>20.0</td>\n",
       "    </tr>\n",
       "    <tr>\n",
       "      <th>5</th>\n",
       "      <td>M</td>\n",
       "      <td>7.0</td>\n",
       "      <td>red</td>\n",
       "      <td>class 1</td>\n",
       "      <td>22.0</td>\n",
       "    </tr>\n",
       "  </tbody>\n",
       "</table>\n",
       "</div>"
      ],
      "text/plain": [
       "  size  price   color    class   boh\n",
       "0  XXL    8.0   black  class 1  22.0\n",
       "1    L    9.0    gray  class 2  20.0\n",
       "2   XL   10.0    blue  class 2  19.0\n",
       "3    M    9.0  orange  class 1  17.0\n",
       "4    M   11.0   green  class 3  20.0\n",
       "5    M    7.0     red  class 1  22.0"
      ]
     },
     "execution_count": 8,
     "metadata": {},
     "output_type": "execute_result"
    }
   ],
   "source": [
    "# some other column \n",
    "imp_mean.fit(df[['price']])\n",
    "df[\"price\"]=imp_mean.transform(df[[\"price\"]])\n",
    "df"
   ]
  },
  {
   "cell_type": "code",
   "execution_count": 9,
   "metadata": {
    "scrolled": true
   },
   "outputs": [
    {
     "name": "stdout",
     "output_type": "stream",
     "text": [
      "  size  price   color    class   boh  First score  Second Score\n",
      "0  XXL    8.0   black  class 1  22.0          8.0           8.0\n",
      "1    L    9.0    gray  class 2  20.0          9.0           9.0\n",
      "2   XL   10.0    blue  class 2  19.0         10.0          10.0\n",
      "3    M    9.0  orange  class 1  17.0          9.0           9.0\n",
      "4    M   11.0   green  class 3  20.0         11.0          11.0\n",
      "5    M    7.0     red  class 1  22.0          7.0           7.0\n"
     ]
    }
   ],
   "source": [
    "# Columns specific imputation in a dataframe \n",
    "df_4 = df.copy()\n",
    "mean_value=df_4['price'].mean()\n",
    "df_4['First score']=df_4['price'].fillna(mean_value)\n",
    "#this will replace all NaN values with the mean of the non null values\n",
    "#For Median\n",
    "median_value=df_4['price'].median()\n",
    "df_4['Second Score']=df_4['price'].fillna(median_value)\n",
    "print(df_4)"
   ]
  },
  {
   "cell_type": "markdown",
   "metadata": {},
   "source": [
    "<a class=\"list-group-item list-group-item-action\" data-toggle=\"list\" href=\"#Pre-Processing\" role=\"tab\" aria-controls=\"settings\">Go to Top<span class=\"badge badge-primary badge-pill\"></span></a>"
   ]
  },
  {
   "cell_type": "markdown",
   "metadata": {},
   "source": [
    "### Forward fill and backward fill (can be used according to business problem)\n",
    "Forward filling means fill missing values with previous data. Backward filling means fill missing values with next data point."
   ]
  },
  {
   "cell_type": "code",
   "execution_count": 10,
   "metadata": {},
   "outputs": [
    {
     "name": "stdout",
     "output_type": "stream",
     "text": [
      "Series  :\n",
      " 2010-10-31    100.0\n",
      "2010-11-30      NaN\n",
      "2010-12-31      NaN\n",
      "2011-01-31     18.0\n",
      "2011-02-28     65.0\n",
      "2011-03-31      NaN\n",
      "2011-04-30     32.0\n",
      "2011-05-31     10.0\n",
      "2011-06-30      5.0\n",
      "2011-07-31     24.0\n",
      "2011-08-31     60.0\n",
      "Freq: M, dtype: float64\n"
     ]
    }
   ],
   "source": [
    "# Creating the Series \n",
    "sr = pd.Series([100, None, None, 18, 65, None, 32, 10, 5, 24, 60]) \n",
    "\n",
    "# Create the Index \n",
    "index_ = pd.date_range('2010-10-09', periods = 11, freq ='M')   \n",
    "\n",
    "# set the index\n",
    "sr.index = index_   \n",
    "\n",
    "# Print the series\n",
    "print('Series  :\\n',sr) \n"
   ]
  },
  {
   "cell_type": "code",
   "execution_count": 11,
   "metadata": {},
   "outputs": [
    {
     "name": "stdout",
     "output_type": "stream",
     "text": [
      "Series after forward fill :\n",
      " 2010-10-31    100.0\n",
      "2010-11-30    100.0\n",
      "2010-12-31    100.0\n",
      "2011-01-31     18.0\n",
      "2011-02-28     65.0\n",
      "2011-03-31     65.0\n",
      "2011-04-30     32.0\n",
      "2011-05-31     10.0\n",
      "2011-06-30      5.0\n",
      "2011-07-31     24.0\n",
      "2011-08-31     60.0\n",
      "Freq: M, dtype: float64\n"
     ]
    }
   ],
   "source": [
    "result = sr.fillna(method = 'ffill')\n",
    "print('Series after forward fill :\\n',result)\n"
   ]
  },
  {
   "cell_type": "code",
   "execution_count": 12,
   "metadata": {},
   "outputs": [
    {
     "name": "stdout",
     "output_type": "stream",
     "text": [
      "Series after backward fill :\n",
      " 2010-10-31    100.0\n",
      "2010-11-30     18.0\n",
      "2010-12-31     18.0\n",
      "2011-01-31     18.0\n",
      "2011-02-28     65.0\n",
      "2011-03-31     32.0\n",
      "2011-04-30     32.0\n",
      "2011-05-31     10.0\n",
      "2011-06-30      5.0\n",
      "2011-07-31     24.0\n",
      "2011-08-31     60.0\n",
      "Freq: M, dtype: float64\n"
     ]
    }
   ],
   "source": [
    "result = sr.fillna(method = 'bfill')\n",
    "print('Series after backward fill :\\n',result)\n"
   ]
  },
  {
   "cell_type": "markdown",
   "metadata": {},
   "source": [
    "<a class=\"list-group-item list-group-item-action\" data-toggle=\"list\" href=\"#Pre-Processing\" role=\"tab\" aria-controls=\"settings\">Go to Top<span class=\"badge badge-primary badge-pill\"></span></a>"
   ]
  },
  {
   "cell_type": "markdown",
   "metadata": {},
   "source": [
    "### Nearest neighbors imputation\n",
    "It can be used for data that are continuous, discrete, ordinal and categorical which makes it particularly useful for dealing with all kind of missing data. The assumption behind using KNN for missing values is that a point value can be approximated by the values of the points that are closest to it, based on other variables. <br><br>The distance metric varies according to the type of data:\n",
    "1. **Continuous Data**: The commonly used distance metrics for continuous data are Euclidean, Manhattan and Cosine\n",
    "2. **Categorical Data**: Hamming distance is generally used in this case. It takes all the categorical attributes "
   ]
  },
  {
   "cell_type": "code",
   "execution_count": 13,
   "metadata": {
    "scrolled": true
   },
   "outputs": [
    {
     "data": {
      "text/plain": [
       "array([[1. , 2. , 4. ],\n",
       "       [3. , 4. , 3. ],\n",
       "       [5.5, 6. , 5. ],\n",
       "       [8. , 8. , 7. ]])"
      ]
     },
     "execution_count": 13,
     "metadata": {},
     "output_type": "execute_result"
    }
   ],
   "source": [
    "import numpy as np\n",
    "from sklearn.impute import KNNImputer\n",
    "X = [[1, 2, np.nan], [3, 4, 3], [np.nan, 6, 5], [8, 8, 7]]\n",
    "imputer = KNNImputer(n_neighbors=2)\n",
    "imputer.fit_transform(X)"
   ]
  },
  {
   "cell_type": "code",
   "execution_count": 14,
   "metadata": {},
   "outputs": [
    {
     "data": {
      "text/html": [
       "<div>\n",
       "<style scoped>\n",
       "    .dataframe tbody tr th:only-of-type {\n",
       "        vertical-align: middle;\n",
       "    }\n",
       "\n",
       "    .dataframe tbody tr th {\n",
       "        vertical-align: top;\n",
       "    }\n",
       "\n",
       "    .dataframe thead th {\n",
       "        text-align: right;\n",
       "    }\n",
       "</style>\n",
       "<table border=\"1\" class=\"dataframe\">\n",
       "  <thead>\n",
       "    <tr style=\"text-align: right;\">\n",
       "      <th></th>\n",
       "      <th>size</th>\n",
       "      <th>price</th>\n",
       "      <th>color</th>\n",
       "      <th>class</th>\n",
       "      <th>boh</th>\n",
       "    </tr>\n",
       "  </thead>\n",
       "  <tbody>\n",
       "    <tr>\n",
       "      <th>0</th>\n",
       "      <td>XXL</td>\n",
       "      <td>8.0</td>\n",
       "      <td>black</td>\n",
       "      <td>class 1</td>\n",
       "      <td>22.0</td>\n",
       "    </tr>\n",
       "    <tr>\n",
       "      <th>1</th>\n",
       "      <td>L</td>\n",
       "      <td>9.0</td>\n",
       "      <td>gray</td>\n",
       "      <td>class 2</td>\n",
       "      <td>20.0</td>\n",
       "    </tr>\n",
       "    <tr>\n",
       "      <th>2</th>\n",
       "      <td>XL</td>\n",
       "      <td>10.0</td>\n",
       "      <td>blue</td>\n",
       "      <td>class 2</td>\n",
       "      <td>19.0</td>\n",
       "    </tr>\n",
       "    <tr>\n",
       "      <th>3</th>\n",
       "      <td>M</td>\n",
       "      <td>9.0</td>\n",
       "      <td>orange</td>\n",
       "      <td>class 1</td>\n",
       "      <td>17.0</td>\n",
       "    </tr>\n",
       "    <tr>\n",
       "      <th>4</th>\n",
       "      <td>M</td>\n",
       "      <td>11.0</td>\n",
       "      <td>green</td>\n",
       "      <td>class 3</td>\n",
       "      <td>20.0</td>\n",
       "    </tr>\n",
       "    <tr>\n",
       "      <th>5</th>\n",
       "      <td>M</td>\n",
       "      <td>7.0</td>\n",
       "      <td>red</td>\n",
       "      <td>class 1</td>\n",
       "      <td>22.0</td>\n",
       "    </tr>\n",
       "  </tbody>\n",
       "</table>\n",
       "</div>"
      ],
      "text/plain": [
       "  size  price   color    class   boh\n",
       "0  XXL    8.0   black  class 1  22.0\n",
       "1    L    9.0    gray  class 2  20.0\n",
       "2   XL   10.0    blue  class 2  19.0\n",
       "3    M    9.0  orange  class 1  17.0\n",
       "4    M   11.0   green  class 3  20.0\n",
       "5    M    7.0     red  class 1  22.0"
      ]
     },
     "execution_count": 14,
     "metadata": {},
     "output_type": "execute_result"
    }
   ],
   "source": [
    "df"
   ]
  },
  {
   "cell_type": "code",
   "execution_count": 15,
   "metadata": {},
   "outputs": [
    {
     "data": {
      "text/html": [
       "<div>\n",
       "<style scoped>\n",
       "    .dataframe tbody tr th:only-of-type {\n",
       "        vertical-align: middle;\n",
       "    }\n",
       "\n",
       "    .dataframe tbody tr th {\n",
       "        vertical-align: top;\n",
       "    }\n",
       "\n",
       "    .dataframe thead th {\n",
       "        text-align: right;\n",
       "    }\n",
       "</style>\n",
       "<table border=\"1\" class=\"dataframe\">\n",
       "  <thead>\n",
       "    <tr style=\"text-align: right;\">\n",
       "      <th></th>\n",
       "      <th>size</th>\n",
       "      <th>price</th>\n",
       "      <th>color</th>\n",
       "      <th>class</th>\n",
       "      <th>boh</th>\n",
       "    </tr>\n",
       "  </thead>\n",
       "  <tbody>\n",
       "    <tr>\n",
       "      <th>0</th>\n",
       "      <td>XXL</td>\n",
       "      <td>8.0</td>\n",
       "      <td>black</td>\n",
       "      <td>class 1</td>\n",
       "      <td>22.0</td>\n",
       "    </tr>\n",
       "    <tr>\n",
       "      <th>1</th>\n",
       "      <td>L</td>\n",
       "      <td>9.0</td>\n",
       "      <td>gray</td>\n",
       "      <td>class 2</td>\n",
       "      <td>20.0</td>\n",
       "    </tr>\n",
       "    <tr>\n",
       "      <th>2</th>\n",
       "      <td>XL</td>\n",
       "      <td>10.0</td>\n",
       "      <td>blue</td>\n",
       "      <td>class 2</td>\n",
       "      <td>19.0</td>\n",
       "    </tr>\n",
       "    <tr>\n",
       "      <th>3</th>\n",
       "      <td>M</td>\n",
       "      <td>9.0</td>\n",
       "      <td>orange</td>\n",
       "      <td>class 1</td>\n",
       "      <td>17.0</td>\n",
       "    </tr>\n",
       "    <tr>\n",
       "      <th>4</th>\n",
       "      <td>M</td>\n",
       "      <td>11.0</td>\n",
       "      <td>green</td>\n",
       "      <td>class 3</td>\n",
       "      <td>20.0</td>\n",
       "    </tr>\n",
       "    <tr>\n",
       "      <th>5</th>\n",
       "      <td>M</td>\n",
       "      <td>7.0</td>\n",
       "      <td>red</td>\n",
       "      <td>class 1</td>\n",
       "      <td>22.0</td>\n",
       "    </tr>\n",
       "  </tbody>\n",
       "</table>\n",
       "</div>"
      ],
      "text/plain": [
       "  size  price   color    class   boh\n",
       "0  XXL    8.0   black  class 1  22.0\n",
       "1    L    9.0    gray  class 2  20.0\n",
       "2   XL   10.0    blue  class 2  19.0\n",
       "3    M    9.0  orange  class 1  17.0\n",
       "4    M   11.0   green  class 3  20.0\n",
       "5    M    7.0     red  class 1  22.0"
      ]
     },
     "execution_count": 15,
     "metadata": {},
     "output_type": "execute_result"
    }
   ],
   "source": [
    "# KNN Imputer for a dataframe \n",
    "import numpy as np\n",
    "from sklearn.impute import KNNImputer\n",
    "imputer = KNNImputer(n_neighbors=5)\n",
    "q = imputer.fit_transform(df[['boh']])\n",
    "df['boh'] = q\n",
    "df"
   ]
  },
  {
   "cell_type": "code",
   "execution_count": 16,
   "metadata": {},
   "outputs": [
    {
     "data": {
      "text/html": [
       "<div>\n",
       "<style scoped>\n",
       "    .dataframe tbody tr th:only-of-type {\n",
       "        vertical-align: middle;\n",
       "    }\n",
       "\n",
       "    .dataframe tbody tr th {\n",
       "        vertical-align: top;\n",
       "    }\n",
       "\n",
       "    .dataframe thead th {\n",
       "        text-align: right;\n",
       "    }\n",
       "</style>\n",
       "<table border=\"1\" class=\"dataframe\">\n",
       "  <thead>\n",
       "    <tr style=\"text-align: right;\">\n",
       "      <th></th>\n",
       "      <th>size</th>\n",
       "      <th>price</th>\n",
       "      <th>color</th>\n",
       "      <th>class</th>\n",
       "      <th>boh</th>\n",
       "    </tr>\n",
       "  </thead>\n",
       "  <tbody>\n",
       "    <tr>\n",
       "      <th>0</th>\n",
       "      <td>XXL</td>\n",
       "      <td>8.0</td>\n",
       "      <td>black</td>\n",
       "      <td>class 1</td>\n",
       "      <td>22.0</td>\n",
       "    </tr>\n",
       "    <tr>\n",
       "      <th>1</th>\n",
       "      <td>L</td>\n",
       "      <td>9.0</td>\n",
       "      <td>gray</td>\n",
       "      <td>class 2</td>\n",
       "      <td>20.0</td>\n",
       "    </tr>\n",
       "    <tr>\n",
       "      <th>2</th>\n",
       "      <td>XL</td>\n",
       "      <td>10.0</td>\n",
       "      <td>blue</td>\n",
       "      <td>class 2</td>\n",
       "      <td>19.0</td>\n",
       "    </tr>\n",
       "    <tr>\n",
       "      <th>3</th>\n",
       "      <td>M</td>\n",
       "      <td>9.0</td>\n",
       "      <td>orange</td>\n",
       "      <td>class 1</td>\n",
       "      <td>17.0</td>\n",
       "    </tr>\n",
       "    <tr>\n",
       "      <th>4</th>\n",
       "      <td>M</td>\n",
       "      <td>11.0</td>\n",
       "      <td>green</td>\n",
       "      <td>class 3</td>\n",
       "      <td>20.0</td>\n",
       "    </tr>\n",
       "    <tr>\n",
       "      <th>5</th>\n",
       "      <td>M</td>\n",
       "      <td>7.0</td>\n",
       "      <td>red</td>\n",
       "      <td>class 1</td>\n",
       "      <td>22.0</td>\n",
       "    </tr>\n",
       "  </tbody>\n",
       "</table>\n",
       "</div>"
      ],
      "text/plain": [
       "  size  price   color    class   boh\n",
       "0  XXL    8.0   black  class 1  22.0\n",
       "1    L    9.0    gray  class 2  20.0\n",
       "2   XL   10.0    blue  class 2  19.0\n",
       "3    M    9.0  orange  class 1  17.0\n",
       "4    M   11.0   green  class 3  20.0\n",
       "5    M    7.0     red  class 1  22.0"
      ]
     },
     "execution_count": 16,
     "metadata": {},
     "output_type": "execute_result"
    }
   ],
   "source": [
    "q = imputer.fit_transform(df[['price']])\n",
    "df['price'] = q\n",
    "df"
   ]
  },
  {
   "cell_type": "markdown",
   "metadata": {},
   "source": [
    "<a class=\"list-group-item list-group-item-action\" data-toggle=\"list\" href=\"#Pre-Processing\" role=\"tab\" aria-controls=\"settings\">Go to Top<span class=\"badge badge-primary badge-pill\"></span></a>"
   ]
  },
  {
   "cell_type": "markdown",
   "metadata": {},
   "source": [
    "### MultiOutputRegressor\n",
    "\n",
    "\n",
    "This strategy consists of fitting one regressor per target. This is a simple strategy for extending regressors that do not natively support multi-target regression."
   ]
  },
  {
   "cell_type": "code",
   "execution_count": 17,
   "metadata": {
    "jupyter": {
     "outputs_hidden": true
    }
   },
   "outputs": [
    {
     "name": "stdout",
     "output_type": "stream",
     "text": [
      "[[  5. 162.  60.]\n",
      " [  2. 110.  60.]\n",
      " [ 12. 101. 101.]\n",
      " [ 12. 105.  37.]\n",
      " [ 13. 155.  58.]\n",
      " [  4. 101.  42.]\n",
      " [  8. 101.  38.]\n",
      " [  6. 125.  40.]\n",
      " [ 15. 200.  40.]\n",
      " [ 17. 251. 250.]\n",
      " [ 17. 120.  38.]\n",
      " [ 13. 210. 115.]\n",
      " [ 14. 215. 105.]\n",
      " [  1.  50.  50.]\n",
      " [  6.  70.  31.]\n",
      " [ 12. 210. 120.]\n",
      " [  4.  60.  25.]\n",
      " [ 11. 230.  80.]\n",
      " [ 15. 225.  73.]\n",
      " [  2. 110.  43.]]\n",
      "[[191.  36.  50.]\n",
      " [189.  37.  52.]\n",
      " [193.  38.  58.]\n",
      " [162.  35.  62.]\n",
      " [189.  35.  46.]\n",
      " [182.  36.  56.]\n",
      " [211.  38.  56.]\n",
      " [167.  34.  60.]\n",
      " [176.  31.  74.]\n",
      " [154.  33.  56.]\n",
      " [169.  34.  50.]\n",
      " [166.  33.  52.]\n",
      " [154.  34.  64.]\n",
      " [247.  46.  50.]\n",
      " [193.  36.  46.]\n",
      " [202.  37.  62.]\n",
      " [176.  37.  54.]\n",
      " [157.  32.  52.]\n",
      " [156.  33.  54.]\n",
      " [138.  33.  68.]]\n"
     ]
    }
   ],
   "source": [
    "import numpy as np\n",
    "from sklearn.datasets import load_linnerud\n",
    "from sklearn.multioutput import MultiOutputRegressor\n",
    "from sklearn.linear_model import Ridge\n",
    "X, y = load_linnerud(return_X_y=True)\n",
    "print(X)\n",
    "print(y)\n",
    "clf = MultiOutputRegressor(Ridge(random_state=123)).fit(X, y)\n",
    "pred =clf.predict(X[[0]])"
   ]
  },
  {
   "cell_type": "code",
   "execution_count": 18,
   "metadata": {},
   "outputs": [
    {
     "data": {
      "text/plain": [
       "array([[176.16484296,  35.0548407 ,  57.09000136]])"
      ]
     },
     "execution_count": 18,
     "metadata": {},
     "output_type": "execute_result"
    }
   ],
   "source": [
    "pred"
   ]
  },
  {
   "cell_type": "markdown",
   "metadata": {},
   "source": [
    "<a class=\"list-group-item list-group-item-action\" data-toggle=\"list\" href=\"#Pre-Processing\" role=\"tab\" aria-controls=\"settings\">Go to Top<span class=\"badge badge-primary badge-pill\"></span></a>"
   ]
  },
  {
   "cell_type": "markdown",
   "metadata": {},
   "source": [
    "### IterativeImpute"
   ]
  },
  {
   "cell_type": "markdown",
   "metadata": {},
   "source": [
    "It is a Multivariate imputer that estimates each feature from all the others. It applies a strategy for imputing missing values by modeling each feature with missing values as a function of other features in a round-robin fashion."
   ]
  },
  {
   "cell_type": "code",
   "execution_count": 19,
   "metadata": {
    "scrolled": true
   },
   "outputs": [
    {
     "data": {
      "text/plain": [
       "array([[ 6.95847623,  2.        ,  3.        ],\n",
       "       [ 4.        ,  2.6000004 ,  6.        ],\n",
       "       [10.        ,  4.99999933,  9.        ]])"
      ]
     },
     "execution_count": 19,
     "metadata": {},
     "output_type": "execute_result"
    }
   ],
   "source": [
    "import numpy as np\n",
    "from sklearn.experimental import enable_iterative_imputer\n",
    "from sklearn.impute import IterativeImputer\n",
    "imp_mean = IterativeImputer(random_state=0)\n",
    "imp_mean.fit([[7, 2, 3], [4, np.nan, 6], [10, 5, 9]])\n",
    "IterativeImputer(random_state=0)\n",
    "X = [[np.nan, 2, 3], [4, np.nan, 6], [10, np.nan, 9]]\n",
    "imp_mean.transform(X)"
   ]
  },
  {
   "cell_type": "markdown",
   "metadata": {},
   "source": [
    "<a class=\"list-group-item list-group-item-action\" data-toggle=\"list\" href=\"#Pre-Processing\" role=\"tab\" aria-controls=\"settings\">Go to Top<span class=\"badge badge-primary badge-pill\"></span></a>"
   ]
  },
  {
   "cell_type": "markdown",
   "metadata": {},
   "source": [
    "## Time-Series Specific Methods\n",
    "1. **Last Observation Carried Forward (LOCF) & Next Observation Carried Backward (NOCB)**\n",
    "<br>This is a common statistical approach to the analysis of longitudinal repeated measured data where some follow-up observations may be missing. Longitudinal data track the same sample at different points in time. Both these methods can introduce bias in analysis and perform poorly when data has a visible trend\n",
    "2. **Data without trend and seasonality**\n",
    "mean, mode, median and random sample imputation can be used \n",
    "3. **Linear Interpolation**\n",
    "This method works well for a time series with some **trend** but is not suitable for **seasonal data**\n",
    "4. **Seasonal Adjustment + Linear Interpolation**\n",
    "This method works well for data with both **trend and seasonality**\n"
   ]
  }
 ],
 "metadata": {
  "kernelspec": {
   "display_name": "Python 3",
   "language": "python",
   "name": "python3"
  },
  "language_info": {
   "codemirror_mode": {
    "name": "ipython",
    "version": 3
   },
   "file_extension": ".py",
   "mimetype": "text/x-python",
   "name": "python",
   "nbconvert_exporter": "python",
   "pygments_lexer": "ipython3",
   "version": "3.8.8"
  }
 },
 "nbformat": 4,
 "nbformat_minor": 4
}
